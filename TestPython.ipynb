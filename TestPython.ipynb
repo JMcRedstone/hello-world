{
    "nbformat_minor": 1, 
    "cells": [
        {
            "execution_count": 1, 
            "cell_type": "code", 
            "metadata": {}, 
            "outputs": [], 
            "source": "# Import the libraries\n\nimport numpy as np \nimport matplotlib.pyplot as plt"
        }, 
        {
            "execution_count": 2, 
            "cell_type": "code", 
            "metadata": {}, 
            "outputs": [
                {
                    "execution_count": 2, 
                    "metadata": {}, 
                    "data": {
                        "text/plain": "[[11, 12, 13], [21, 22, 23], [31, 32, 33]]"
                    }, 
                    "output_type": "execute_result"
                }
            ], 
            "source": "# Create a list\n\na = [[11, 12, 13], [21, 22, 23], [31, 32, 33]]\na"
        }, 
        {
            "execution_count": 3, 
            "cell_type": "code", 
            "metadata": {}, 
            "outputs": [
                {
                    "execution_count": 3, 
                    "metadata": {}, 
                    "data": {
                        "text/plain": "array([[11, 12, 13],\n       [21, 22, 23],\n       [31, 32, 33]])"
                    }, 
                    "output_type": "execute_result"
                }
            ], 
            "source": "A = np.array(a)\nA"
        }, 
        {
            "execution_count": 4, 
            "cell_type": "code", 
            "metadata": {}, 
            "outputs": [
                {
                    "execution_count": 4, 
                    "metadata": {}, 
                    "data": {
                        "text/plain": "2"
                    }, 
                    "output_type": "execute_result"
                }
            ], 
            "source": "# Show the numpy array dimensions\n\nA.ndim"
        }, 
        {
            "execution_count": 5, 
            "cell_type": "code", 
            "metadata": {}, 
            "outputs": [
                {
                    "execution_count": 5, 
                    "metadata": {}, 
                    "data": {
                        "text/plain": "(3, 3)"
                    }, 
                    "output_type": "execute_result"
                }
            ], 
            "source": "# Show the numpy array shape\n\nA.shape"
        }, 
        {
            "execution_count": 6, 
            "cell_type": "code", 
            "metadata": {}, 
            "outputs": [
                {
                    "execution_count": 6, 
                    "metadata": {}, 
                    "data": {
                        "text/plain": "9"
                    }, 
                    "output_type": "execute_result"
                }
            ], 
            "source": "# Show the numpy array size\n\nA.size"
        }, 
        {
            "execution_count": 7, 
            "cell_type": "code", 
            "metadata": {}, 
            "outputs": [
                {
                    "execution_count": 7, 
                    "metadata": {}, 
                    "data": {
                        "text/plain": "array([[1, 0],\n       [0, 1]])"
                    }, 
                    "output_type": "execute_result"
                }
            ], 
            "source": "# Create a numpy array X\n\nX = np.array([[1, 0], [0, 1]]) \nX"
        }, 
        {
            "execution_count": 8, 
            "cell_type": "code", 
            "metadata": {}, 
            "outputs": [
                {
                    "execution_count": 8, 
                    "metadata": {}, 
                    "data": {
                        "text/plain": "array([[2, 1],\n       [1, 2]])"
                    }, 
                    "output_type": "execute_result"
                }
            ], 
            "source": "# Create a numpy array Y\n\nY = np.array([[2, 1], [1, 2]]) \nY"
        }, 
        {
            "execution_count": 9, 
            "cell_type": "code", 
            "metadata": {}, 
            "outputs": [
                {
                    "execution_count": 9, 
                    "metadata": {}, 
                    "data": {
                        "text/plain": "array([[3, 1],\n       [1, 3]])"
                    }, 
                    "output_type": "execute_result"
                }
            ], 
            "source": "# Add X and Y\n\nZ = X + Y\nZ"
        }, 
        {
            "execution_count": 10, 
            "cell_type": "code", 
            "metadata": {}, 
            "outputs": [
                {
                    "execution_count": 10, 
                    "metadata": {}, 
                    "data": {
                        "text/plain": "array([[4, 2],\n       [2, 4]])"
                    }, 
                    "output_type": "execute_result"
                }
            ], 
            "source": "# Multiply Y with 2\n\nZ = 2 * Y\nZ"
        }, 
        {
            "execution_count": 11, 
            "cell_type": "code", 
            "metadata": {}, 
            "outputs": [
                {
                    "execution_count": 11, 
                    "metadata": {}, 
                    "data": {
                        "text/plain": "array([[2, 0],\n       [0, 2]])"
                    }, 
                    "output_type": "execute_result"
                }
            ], 
            "source": "# Multiply X with Y\n\nZ = X * Y\nZ"
        }, 
        {
            "execution_count": 13, 
            "cell_type": "code", 
            "metadata": {}, 
            "outputs": [
                {
                    "execution_count": 13, 
                    "metadata": {}, 
                    "data": {
                        "text/plain": "array([[2, 1],\n       [1, 2]])"
                    }, 
                    "output_type": "execute_result"
                }
            ], 
            "source": "Z = np.dot(X,Y)\nZ"
        }, 
        {
            "execution_count": 15, 
            "cell_type": "code", 
            "metadata": {}, 
            "outputs": [
                {
                    "execution_count": 15, 
                    "metadata": {}, 
                    "data": {
                        "text/plain": "array([[ 1,  1],\n       [ 1,  1],\n       [-1,  1]])"
                    }, 
                    "output_type": "execute_result"
                }
            ], 
            "source": "# Create a matrix B\n\nB = np.array([[1, 1], [1, 1], [-1, 1]])\nB"
        }, 
        {
            "execution_count": 17, 
            "cell_type": "code", 
            "metadata": {}, 
            "outputs": [
                {
                    "execution_count": 17, 
                    "metadata": {}, 
                    "data": {
                        "text/plain": "array([[10, 36],\n       [20, 66],\n       [30, 96]])"
                    }, 
                    "output_type": "execute_result"
                }
            ], 
            "source": "Z = np.dot(A,B)\nZ"
        }, 
        {
            "execution_count": 18, 
            "cell_type": "code", 
            "metadata": {}, 
            "outputs": [
                {
                    "execution_count": 18, 
                    "metadata": {}, 
                    "data": {
                        "text/plain": "array([[-0.54402111, -0.99177885],\n       [ 0.91294525, -0.02655115],\n       [-0.98803162,  0.98358775]])"
                    }, 
                    "output_type": "execute_result"
                }
            ], 
            "source": "# Calculate the sine of Z\n\nnp.sin(Z)"
        }, 
        {
            "execution_count": 19, 
            "cell_type": "code", 
            "metadata": {}, 
            "outputs": [
                {
                    "execution_count": 19, 
                    "metadata": {}, 
                    "data": {
                        "text/plain": "array([[ 1,  1, -1],\n       [ 1,  1,  1]])"
                    }, 
                    "output_type": "execute_result"
                }
            ], 
            "source": "# Get the transposed of C\n\nB.T"
        }, 
        {
            "execution_count": 1, 
            "cell_type": "code", 
            "metadata": {}, 
            "outputs": [], 
            "source": "import pandas as pd"
        }, 
        {
            "execution_count": 4, 
            "cell_type": "code", 
            "metadata": {}, 
            "outputs": [], 
            "source": "KNN_jss = .6\nKNN_f1 =.635\nDT_jss =.7\nDT_f1 = .8333333333333\nSVM_jss = .9345\nSVM_f1 = .77777776\nLR_jss = .57\nLR_f1 = .63333\nLR_ll = .89"
        }, 
        {
            "execution_count": 2, 
            "cell_type": "code", 
            "metadata": {}, 
            "outputs": [], 
            "source": "def csvDf(dat,**kwargs): \n  from numpy import array\n  data = array(dat)\n  if data is None or len(data)==0 or len(data[0])==0:\n    return None\n  else:\n    return pd.DataFrame(data[1:,1:],index=data[1:,0],columns=data[0,1:],**kwargs)"
        }, 
        {
            "execution_count": 7, 
            "cell_type": "code", 
            "metadata": {}, 
            "outputs": [
                {
                    "execution_count": 7, 
                    "metadata": {}, 
                    "data": {
                        "text/html": "<div>\n<style scoped>\n    .dataframe tbody tr th:only-of-type {\n        vertical-align: middle;\n    }\n\n    .dataframe tbody tr th {\n        vertical-align: top;\n    }\n\n    .dataframe thead th {\n        text-align: right;\n    }\n</style>\n<table border=\"1\" class=\"dataframe\">\n  <thead>\n    <tr style=\"text-align: right;\">\n      <th></th>\n      <th>Jaccard</th>\n      <th>F1-Score</th>\n      <th>LogLoss</th>\n    </tr>\n  </thead>\n  <tbody>\n    <tr>\n      <th>KNN</th>\n      <td>0.6</td>\n      <td>0.635</td>\n      <td>NA</td>\n    </tr>\n    <tr>\n      <th>DecisionTree</th>\n      <td>0.7</td>\n      <td>0.8333333333333</td>\n      <td>NA</td>\n    </tr>\n    <tr>\n      <th>SVM</th>\n      <td>0.9345</td>\n      <td>0.77777776</td>\n      <td>NA</td>\n    </tr>\n    <tr>\n      <th>LogRegression</th>\n      <td>0.57</td>\n      <td>0.63333</td>\n      <td>0.89</td>\n    </tr>\n  </tbody>\n</table>\n</div>", 
                        "text/plain": "              Jaccard         F1-Score LogLoss\nKNN               0.6            0.635      NA\nDecisionTree      0.7  0.8333333333333      NA\nSVM            0.9345       0.77777776      NA\nLogRegression    0.57          0.63333    0.89"
                    }, 
                    "output_type": "execute_result"
                }
            ], 
            "source": "data = [['Algorithm','Jaccard','F1-Score','LogLoss'],['KNN',KNN_jss,KNN_f1,'NA'],\n     ['DecisionTree',DT_jss,DT_f1,'NA'],['SVM',SVM_jss,SVM_f1,'NA'],['LogRegression',LR_jss,LR_f1,LR_ll] ]\ncsvDf(data)"
        }, 
        {
            "execution_count": 5, 
            "cell_type": "code", 
            "metadata": {}, 
            "outputs": [
                {
                    "output_type": "stream", 
                    "name": "stdout", 
                    "text": "Algorithm\tJaccard \tF1-score\t       LogLoss\n\nKNN \t        0.6000000 \t0.6350000 \t       NA\nDecisionTree\t0.7000000 \t0.8333333 \t       NA\nSVM \t        0.9345000 \t0.7777778 \t       NA\nLogRegression \t0.5700000 \t0.6333300 \t       0.8900000\n"
                }
            ], 
            "source": "print (\"Algorithm\tJaccard \tF1-score\t       LogLoss\")\nprint ()\nprint (\"KNN \t        %1.7f \t%1.7f \t       NA\"% (KNN_jss,KNN_f1))\nprint (\"DecisionTree\t%1.7f \t%1.7f \t       NA\"% (DT_jss,DT_f1))\nprint (\"SVM \t        %1.7f \t%1.7f \t       NA\"% (SVM_jss,SVM_f1))\nprint (\"LogRegression \t%1.7f \t%1.7f \t       %1.7f\"% (LR_jss,LR_f1, LR_ll))"
        }, 
        {
            "execution_count": null, 
            "cell_type": "code", 
            "metadata": {}, 
            "outputs": [], 
            "source": ""
        }
    ], 
    "metadata": {
        "kernelspec": {
            "display_name": "Python 3.5", 
            "name": "python3", 
            "language": "python"
        }, 
        "language_info": {
            "mimetype": "text/x-python", 
            "nbconvert_exporter": "python", 
            "version": "3.5.5", 
            "name": "python", 
            "file_extension": ".py", 
            "pygments_lexer": "ipython3", 
            "codemirror_mode": {
                "version": 3, 
                "name": "ipython"
            }
        }
    }, 
    "nbformat": 4
}